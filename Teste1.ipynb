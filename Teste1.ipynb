{
  "nbformat": 4,
  "nbformat_minor": 0,
  "metadata": {
    "colab": {
      "name": "Untitled11.ipynb",
      "provenance": [],
      "authorship_tag": "ABX9TyPIysv+KXCT1ynYsSvYxuhH",
      "include_colab_link": true
    },
    "kernelspec": {
      "name": "python3",
      "display_name": "Python 3"
    },
    "language_info": {
      "name": "python"
    }
  },
  "cells": [
    {
      "cell_type": "markdown",
      "metadata": {
        "id": "view-in-github",
        "colab_type": "text"
      },
      "source": [
        "<a href=\"https://colab.research.google.com/github/luizcarlos2103/py/blob/main/Teste1.ipynb\" target=\"_parent\"><img src=\"https://colab.research.google.com/assets/colab-badge.svg\" alt=\"Open In Colab\"/></a>"
      ]
    },
    {
      "cell_type": "markdown",
      "source": [
        "# Classes"
      ],
      "metadata": {
        "id": "xDi7dP7LtY5C"
      }
    },
    {
      "cell_type": "code",
      "execution_count": null,
      "metadata": {
        "id": "Jhm15Y6vtXvF"
      },
      "outputs": [],
      "source": [
        "from time import sleep\n",
        "class Pessoa(object):\n",
        "  def __init__(self,nome : str,idade : int,altura: int, documento : str):\n",
        "    self.nome = nome\n",
        "    self.idade = idade\n",
        "    self.altura = altura\n",
        "    self.documento = documento\n",
        "  def __str__(self) -> str:\n",
        "    return f' Nome: {self.nome} /n Idade: {self.idade}/n Altura: {self.altura}/n Documento: {self.documento}'\n"
      ]
    },
    {
      "cell_type": "code",
      "source": [
        "from time import sleep\n",
        "class Pessoa(object):\n",
        "  def __init__(self,nome:str,idade:int,documento:str):\n",
        "    self.nome = nome\n",
        "    self.idade = idade\n",
        "    self.documento = documento\n",
        "    self.muda_Idade()\n",
        "  def dormir(self, horas:int)->None:\n",
        "    for hora in range(1,horas+1):\n",
        "      print(f'Dormindo por {hora} horas')\n",
        "      sleep(1)\n",
        "  def muda_Idade(self):\n",
        "    self.idade += 1\n",
        "\n",
        "  def falar(self, texto:str) -> None:\n",
        "    print(texto)\n",
        "  def __str__(self) -> str:\n",
        "    return f' Nome: {self.nome} \\n Idade: {self.idade} anos \\n Documento:{self.documento}'  \n"
      ],
      "metadata": {
        "id": "5XxRF1bCIXGA"
      },
      "execution_count": null,
      "outputs": []
    },
    {
      "cell_type": "code",
      "source": [
        "luiz = Pessoa(\"Luiz Carlos\",31,\"MG13353530\")\n",
        "luiz.falar(\"luiz\")"
      ],
      "metadata": {
        "colab": {
          "base_uri": "https://localhost:8080/"
        },
        "id": "5GUoeXwRK0Jl",
        "outputId": "fcb5f11b-6839-4f5e-d654-3cb918c46428"
      },
      "execution_count": null,
      "outputs": [
        {
          "output_type": "stream",
          "name": "stdout",
          "text": [
            "luiz\n"
          ]
        }
      ]
    },
    {
      "cell_type": "code",
      "source": [
        "score_credito = {\"MG13353530\":980,\"3\":900}\n",
        "\n",
        "print(score_credito[luiz.documento])\n"
      ],
      "metadata": {
        "colab": {
          "base_uri": "https://localhost:8080/"
        },
        "id": "MK4BsgGXO4Hq",
        "outputId": "d76509f6-ea7e-488d-a921-75f80c07453f"
      },
      "execution_count": null,
      "outputs": [
        {
          "output_type": "stream",
          "name": "stdout",
          "text": [
            "980\n"
          ]
        }
      ]
    },
    {
      "cell_type": "code",
      "source": [
        "luiz.dormir(5)"
      ],
      "metadata": {
        "colab": {
          "base_uri": "https://localhost:8080/"
        },
        "id": "PbguKFVCQYOa",
        "outputId": "f506f7c4-2e95-4e3e-cc39-a709b2fd356a"
      },
      "execution_count": null,
      "outputs": [
        {
          "output_type": "stream",
          "name": "stdout",
          "text": [
            "Dormindo por 1 horas\n",
            "Dormindo por 2 horas\n",
            "Dormindo por 3 horas\n",
            "Dormindo por 4 horas\n",
            "Dormindo por 5 horas\n"
          ]
        }
      ]
    },
    {
      "cell_type": "code",
      "source": [
        "class ArquivoCSV(object):\n",
        "\n",
        "  def __init__(self,arquivo : str):\n",
        "    self.arquivo = arquivo\n",
        "    self.conteudo = self._extrair_conteudo()\n",
        "    print(self.conteudo)\n",
        "    ##self.colunas = self._nome_das_colunas()\n",
        "\n",
        "  def _extrair_conteudo(self):\n",
        "    with open(file = self.arquivo,mode=\"r\",encoding=\"utf8\") as of:\n",
        "      conteudo = of.readlines()\n",
        "    return conteudo\n",
        "  \n",
        "  ##def _nome_das_colunas(self):\n",
        "    ##return  self.conteudo[0].strip().split(\",\")\n",
        "\n",
        "  def extraindo_conteudo(self, indice : str):\n",
        "    coluna = []\n",
        "    for linha in self.conteudo:\n",
        "      conteudo_linha = linha.strip().split(\",\")\n",
        "      coluna.append(conteudo_linha[indice])\n",
        "    print(coluna)\n",
        "\n",
        "                    \n",
        "\n"
      ],
      "metadata": {
        "id": "Tewi68teSUSu"
      },
      "execution_count": null,
      "outputs": []
    },
    {
      "cell_type": "code",
      "source": [
        "%%writefile banco.csv\n",
        "age,job,marital,education,default,balance,housing,loan\n",
        "30,unemployed,married,primary,no,1787,no,no\n",
        "33,services,married,secondary,no,4789,yes,yes\n",
        "35,management,single,tertiary,no,1350,yes,no\n",
        "30,management,married,tertiary,no,1476,yes,yes\n",
        "59,blue-collar,married,secondary,no,0,yes,no\n",
        "35,management,single,tertiary,no,747,no,no\n",
        "36,self-employed,married,tertiary,no,307,yes,no\n",
        "39,technician,married,secondary,no,147,yes,no\n",
        "41,entrepreneur,married,tertiary,no,221,yes,no\n",
        "43,services,married,primary,no,-88,yes,yes"
      ],
      "metadata": {
        "colab": {
          "base_uri": "https://localhost:8080/"
        },
        "id": "nDx9g4B5XN5a",
        "outputId": "3fddfdae-9fdb-4371-b08f-77faeedbfaac"
      },
      "execution_count": null,
      "outputs": [
        {
          "output_type": "stream",
          "name": "stdout",
          "text": [
            "Writing banco.csv\n"
          ]
        }
      ]
    },
    {
      "cell_type": "code",
      "source": [
        "arquivo = ArquivoCSV(\"banco.csv\")"
      ],
      "metadata": {
        "colab": {
          "base_uri": "https://localhost:8080/"
        },
        "id": "mg3JLtefXSjR",
        "outputId": "2960b332-ec29-4e17-e169-81283b1fe4db"
      },
      "execution_count": null,
      "outputs": [
        {
          "output_type": "stream",
          "name": "stdout",
          "text": [
            "['age,job,marital,education,default,balance,housing,loan\\n', '30,unemployed,married,primary,no,1787,no,no\\n', '33,services,married,secondary,no,4789,yes,yes\\n', '35,management,single,tertiary,no,1350,yes,no\\n', '30,management,married,tertiary,no,1476,yes,yes\\n', '59,blue-collar,married,secondary,no,0,yes,no\\n', '35,management,single,tertiary,no,747,no,no\\n', '36,self-employed,married,tertiary,no,307,yes,no\\n', '39,technician,married,secondary,no,147,yes,no\\n', '41,entrepreneur,married,tertiary,no,221,yes,no\\n', '43,services,married,primary,no,-88,yes,yes']\n"
          ]
        }
      ]
    },
    {
      "cell_type": "code",
      "source": [
        "arquivo.extraindo_conteudo(3)"
      ],
      "metadata": {
        "colab": {
          "base_uri": "https://localhost:8080/"
        },
        "id": "tkrwlDEJrgoF",
        "outputId": "27342e10-74c3-4dbc-e365-94c441ce8154"
      },
      "execution_count": null,
      "outputs": [
        {
          "output_type": "stream",
          "name": "stdout",
          "text": [
            "['education', 'primary', 'secondary', 'tertiary', 'tertiary', 'secondary', 'tertiary', 'tertiary', 'secondary', 'tertiary', 'primary']\n"
          ]
        }
      ]
    }
  ]
}